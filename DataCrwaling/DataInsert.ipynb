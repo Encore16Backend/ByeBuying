{
 "cells": [
  {
   "cell_type": "code",
   "execution_count": 2,
   "metadata": {},
   "outputs": [],
   "source": [
    "import requests\n",
    "import pandas as pd\n",
    "from glob import glob\n",
    "from selenium import webdriver"
   ]
  },
  {
   "cell_type": "code",
   "execution_count": 3,
   "metadata": {
    "pycharm": {
     "name": "#%%\n"
    }
   },
   "outputs": [
    {
     "data": {
      "text/plain": [
       "<Response [201]>"
      ]
     },
     "execution_count": 3,
     "metadata": {},
     "output_type": "execute_result"
    }
   ],
   "source": [
    "category_save = \"http://127.0.0.1:8081/main/category/save\"\n",
    "request_body = {\"catename\":\"반팔\"}\n",
    "requests.post(url=category_save, json=request_body)"
   ]
  },
  {
   "cell_type": "markdown",
   "metadata": {},
   "source": [
    "* 상의: 1\n",
    "    * 반팔: 5\n",
    "    * 긴팔: 6\n",
    "    * 셔츠: 7\n",
    "\n",
    "* 바지: 2\n",
    "    * 반바지: 8\n",
    "    * 슬랙스: 9\n",
    "    * 데님팬츠: 10\n",
    "\n",
    "* 스커트: 3\n",
    "    * 미니스커트: 11\n",
    "    * 롱스커트: 12\n",
    "\n",
    "* 아우터: 4\n",
    "    * 롱패딩: 13\n",
    "    * 숏패딩: 14\n",
    "    * 코트: 15\n",
    "    * 트렌치 코트: 16"
   ]
  },
  {
   "cell_type": "code",
   "execution_count": 3,
   "metadata": {
    "pycharm": {
     "name": "#%%\n"
    }
   },
   "outputs": [],
   "source": [
    "category_list = ['상의', '바지', '스커트', '아우터', '반팔', '긴팔', '셔츠', '반바지', '슬랙스', '데님팬츠', '미니스커트', '롱스커트', '롱패딩', '숏패딩', '코트', '트렌치 코트']\n",
    "\n",
    "category_save = \"http://127.0.0.1:8081/main/category/save\"\n",
    "\n",
    "for category in category_list:\n",
    "    request_body = {\"catename\":category}\n",
    "    requests.post(url=category_save, json=request_body)"
   ]
  },
  {
   "cell_type": "code",
   "execution_count": 4,
   "metadata": {
    "pycharm": {
     "name": "#%%\n"
    }
   },
   "outputs": [
    {
     "data": {
      "text/plain": "['./상품DataFrame\\\\바지_데님팬츠.csv',\n './상품DataFrame\\\\바지_반바지.csv',\n './상품DataFrame\\\\바지_슬랙스.csv',\n './상품DataFrame\\\\상의_긴팔.csv',\n './상품DataFrame\\\\상의_반팔.csv',\n './상품DataFrame\\\\상의_셔츠.csv',\n './상품DataFrame\\\\스커트_롱스커트.csv',\n './상품DataFrame\\\\스커트_미니스커트.csv',\n './상품DataFrame\\\\아우터_롱패딩.csv',\n './상품DataFrame\\\\아우터_숏패딩.csv',\n './상품DataFrame\\\\아우터_코트.csv',\n './상품DataFrame\\\\아우터_트렌치 코트.csv']"
     },
     "execution_count": 4,
     "metadata": {},
     "output_type": "execute_result"
    }
   ],
   "source": [
    "csv_file = glob(\"./상품DataFrame/*.csv\")\n",
    "csv_file"
   ]
  },
  {
   "cell_type": "code",
   "execution_count": 4,
   "metadata": {
    "pycharm": {
     "name": "#%%\n"
    }
   },
   "outputs": [
    {
     "name": "stdout",
     "output_type": "stream",
     "text": [
      "['아우터', '트렌치 코트']\n"
     ]
    }
   ],
   "source": [
    "tmp = csv_file[-1].split('\\\\')[1][:-4]\n",
    "print(tmp.split('_'))"
   ]
  },
  {
   "cell_type": "code",
   "execution_count": 5,
   "metadata": {
    "pycharm": {
     "name": "#%%\n"
    }
   },
   "outputs": [
    {
     "name": "stdout",
     "output_type": "stream",
     "text": [
      "['바지', '데님팬츠']\n"
     ]
    }
   ],
   "source": [
    "tmp = csv_file[0].split('\\\\')[1][:-4]\n",
    "print(tmp.split('_'))"
   ]
  },
  {
   "cell_type": "code",
   "execution_count": 5,
   "metadata": {
    "pycharm": {
     "name": "#%%\n"
    }
   },
   "outputs": [
    {
     "data": {
      "text/plain": "                                             상품명        가격  \\\n0   CONA 9110 기모옵션 숏버전옵션 시크릿밴드 롱 루즈 와이드 데님 다크그레이   45,000원   \n1   CONA 9085 기모옵션추가 딥워싱 브러쉬 루즈핏 와이드 스트레이트 데님 진청   46,800원   \n2    CONA 9154 기모옵션추가 커버밴드 와이드 루즈 데미지워싱 데님 블랙그레이   48,600원   \n3                      NOI024 스트레이트 루즈핏 데님 팬츠 블랙   35,100원   \n4                  BUCKLE WIDE DENIM PANTS BLACK   41,400원   \n..                                           ...       ...   \n85            W 카버 7801 하이웨이스트 세미와이드핏 다크인디고 데님팬츠   59,500원   \n86                        여성 슬림 데님_PHC1DP2022DIN   69,900원   \n87                                  신디 M01 미드 블루  129,000원   \n88                                 로그 K11 라이트 블루  129,000원   \n89                                  하트 K04 미드 블루  129,000원   \n\n                                               이미지 경로  이미지 개수  \n0   ['./상품이미지/바지/데님팬츠/CONA 9110 기모옵션 숏버전옵션 시크릿밴드 롱...       3  \n1   ['./상품이미지/바지/데님팬츠/CONA 9085 기모옵션추가 딥워싱 브러쉬 루즈핏...       3  \n2   ['./상품이미지/바지/데님팬츠/CONA 9154 기모옵션추가 커버밴드 와이드 루즈...       3  \n3   ['./상품이미지/바지/데님팬츠/NOI024 스트레이트 루즈핏 데님 팬츠 블랙1.j...       1  \n4   ['./상품이미지/바지/데님팬츠/BUCKLE WIDE DENIM PANTS BLAC...       3  \n..                                                ...     ...  \n85  ['./상품이미지/바지/데님팬츠/W 카버 7801 하이웨이스트 세미와이드핏 다크인디...       2  \n86    ['./상품이미지/바지/데님팬츠/여성 슬림 데님_PHC1DP2022DIN1.jpg']       1  \n87  ['./상품이미지/바지/데님팬츠/신디 M01 미드 블루1.jpg', './상품이미지...       3  \n88  ['./상품이미지/바지/데님팬츠/로그 K11 라이트 블루1.jpg', './상품이미...       3  \n89  ['./상품이미지/바지/데님팬츠/하트 K04 미드 블루1.jpg', './상품이미지...       3  \n\n[90 rows x 4 columns]",
      "text/html": "<div>\n<style scoped>\n    .dataframe tbody tr th:only-of-type {\n        vertical-align: middle;\n    }\n\n    .dataframe tbody tr th {\n        vertical-align: top;\n    }\n\n    .dataframe thead th {\n        text-align: right;\n    }\n</style>\n<table border=\"1\" class=\"dataframe\">\n  <thead>\n    <tr style=\"text-align: right;\">\n      <th></th>\n      <th>상품명</th>\n      <th>가격</th>\n      <th>이미지 경로</th>\n      <th>이미지 개수</th>\n    </tr>\n  </thead>\n  <tbody>\n    <tr>\n      <th>0</th>\n      <td>CONA 9110 기모옵션 숏버전옵션 시크릿밴드 롱 루즈 와이드 데님 다크그레이</td>\n      <td>45,000원</td>\n      <td>['./상품이미지/바지/데님팬츠/CONA 9110 기모옵션 숏버전옵션 시크릿밴드 롱...</td>\n      <td>3</td>\n    </tr>\n    <tr>\n      <th>1</th>\n      <td>CONA 9085 기모옵션추가 딥워싱 브러쉬 루즈핏 와이드 스트레이트 데님 진청</td>\n      <td>46,800원</td>\n      <td>['./상품이미지/바지/데님팬츠/CONA 9085 기모옵션추가 딥워싱 브러쉬 루즈핏...</td>\n      <td>3</td>\n    </tr>\n    <tr>\n      <th>2</th>\n      <td>CONA 9154 기모옵션추가 커버밴드 와이드 루즈 데미지워싱 데님 블랙그레이</td>\n      <td>48,600원</td>\n      <td>['./상품이미지/바지/데님팬츠/CONA 9154 기모옵션추가 커버밴드 와이드 루즈...</td>\n      <td>3</td>\n    </tr>\n    <tr>\n      <th>3</th>\n      <td>NOI024 스트레이트 루즈핏 데님 팬츠 블랙</td>\n      <td>35,100원</td>\n      <td>['./상품이미지/바지/데님팬츠/NOI024 스트레이트 루즈핏 데님 팬츠 블랙1.j...</td>\n      <td>1</td>\n    </tr>\n    <tr>\n      <th>4</th>\n      <td>BUCKLE WIDE DENIM PANTS BLACK</td>\n      <td>41,400원</td>\n      <td>['./상품이미지/바지/데님팬츠/BUCKLE WIDE DENIM PANTS BLAC...</td>\n      <td>3</td>\n    </tr>\n    <tr>\n      <th>...</th>\n      <td>...</td>\n      <td>...</td>\n      <td>...</td>\n      <td>...</td>\n    </tr>\n    <tr>\n      <th>85</th>\n      <td>W 카버 7801 하이웨이스트 세미와이드핏 다크인디고 데님팬츠</td>\n      <td>59,500원</td>\n      <td>['./상품이미지/바지/데님팬츠/W 카버 7801 하이웨이스트 세미와이드핏 다크인디...</td>\n      <td>2</td>\n    </tr>\n    <tr>\n      <th>86</th>\n      <td>여성 슬림 데님_PHC1DP2022DIN</td>\n      <td>69,900원</td>\n      <td>['./상품이미지/바지/데님팬츠/여성 슬림 데님_PHC1DP2022DIN1.jpg']</td>\n      <td>1</td>\n    </tr>\n    <tr>\n      <th>87</th>\n      <td>신디 M01 미드 블루</td>\n      <td>129,000원</td>\n      <td>['./상품이미지/바지/데님팬츠/신디 M01 미드 블루1.jpg', './상품이미지...</td>\n      <td>3</td>\n    </tr>\n    <tr>\n      <th>88</th>\n      <td>로그 K11 라이트 블루</td>\n      <td>129,000원</td>\n      <td>['./상품이미지/바지/데님팬츠/로그 K11 라이트 블루1.jpg', './상품이미...</td>\n      <td>3</td>\n    </tr>\n    <tr>\n      <th>89</th>\n      <td>하트 K04 미드 블루</td>\n      <td>129,000원</td>\n      <td>['./상품이미지/바지/데님팬츠/하트 K04 미드 블루1.jpg', './상품이미지...</td>\n      <td>3</td>\n    </tr>\n  </tbody>\n</table>\n<p>90 rows × 4 columns</p>\n</div>"
     },
     "execution_count": 5,
     "metadata": {},
     "output_type": "execute_result"
    }
   ],
   "source": [
    "df = pd.read_csv(csv_file[0])\n",
    "df = df.iloc[:, 1:]\n",
    "df"
   ]
  },
  {
   "cell_type": "code",
   "execution_count": 7,
   "metadata": {
    "pycharm": {
     "name": "#%%\n"
    }
   },
   "outputs": [
    {
     "data": {
      "text/plain": [
       "Index(['상품명', '가격', '이미지 경로', '이미지 개수'], dtype='object')"
      ]
     },
     "execution_count": 7,
     "metadata": {},
     "output_type": "execute_result"
    }
   ],
   "source": [
    "df.columns"
   ]
  },
  {
   "cell_type": "code",
   "execution_count": 8,
   "metadata": {
    "pycharm": {
     "name": "#%%\n"
    }
   },
   "outputs": [
    {
     "name": "stdout",
     "output_type": "stream",
     "text": [
      "./상품이미지/바지/데님팬츠/CONA 9110 기모옵션 숏버전옵션 시크릿밴드 롱 루즈 와이드 데님 다크그레이1.jpg\n",
      "./상품이미지/바지/데님팬츠/CONA 9110 기모옵션 숏버전옵션 시크릿밴드 롱 루즈 와이드 데님 다크그레이2.jpg\n",
      "./상품이미지/바지/데님팬츠/CONA 9110 기모옵션 숏버전옵션 시크릿밴드 롱 루즈 와이드 데님 다크그레이3.jpg\n",
      "./상품이미지/바지/데님팬츠/CONA 9085 기모옵션추가 딥워싱 브러쉬 루즈핏 와이드 스트레이트 데님 진청1.jpg\n",
      "./상품이미지/바지/데님팬츠/CONA 9085 기모옵션추가 딥워싱 브러쉬 루즈핏 와이드 스트레이트 데님 진청2.jpg\n",
      "./상품이미지/바지/데님팬츠/CONA 9085 기모옵션추가 딥워싱 브러쉬 루즈핏 와이드 스트레이트 데님 진청3.jpg\n",
      "./상품이미지/바지/데님팬츠/CONA 9154 기모옵션추가 커버밴드 와이드 루즈 데미지워싱 데님 블랙그레이1.jpg\n",
      "./상품이미지/바지/데님팬츠/CONA 9154 기모옵션추가 커버밴드 와이드 루즈 데미지워싱 데님 블랙그레이2.jpg\n",
      "./상품이미지/바지/데님팬츠/CONA 9154 기모옵션추가 커버밴드 와이드 루즈 데미지워싱 데님 블랙그레이3.jpg\n",
      "./상품이미지/바지/데님팬츠/NOI024 스트레이트 루즈핏 데님 팬츠 블랙1.jpg\n",
      "./상품이미지/바지/데님팬츠/CONA 9213 커버밴드 보이핏 스트레이트 컷팅 데님 중청1.jpg\n",
      "./상품이미지/바지/데님팬츠/CONA 9213 커버밴드 보이핏 스트레이트 컷팅 데님 중청2.jpg\n",
      "./상품이미지/바지/데님팬츠/CONA 9213 커버밴드 보이핏 스트레이트 컷팅 데님 중청3.jpg\n"
     ]
    }
   ],
   "source": [
    "for i in range(5):\n",
    "    name = df['상품명'][i]\n",
    "    price = df['가격'][i]\n",
    "    image_list = df['이미지 경로'][i][1:-1]\n",
    "    for image in image_list.split(','):\n",
    "        print(image.strip()[1:-1])"
   ]
  },
  {
   "cell_type": "markdown",
   "metadata": {},
   "source": [
    "이미지 먼저 순회하면서 저장한 후 아이템 저장하고,\n",
    "아이템에 해당 이미지들과 카테고리들을 넣어줌."
   ]
  },
  {
   "cell_type": "code",
   "execution_count": 6,
   "metadata": {
    "pycharm": {
     "name": "#%%\n"
    }
   },
   "outputs": [],
   "source": [
    "item_save_url = 'http://127.0.0.1:8081/main/item/save'\n",
    "image_save_url = 'http://127.0.0.1:8081/main/image/save'\n",
    "category_to_item = 'http://127.0.0.1:8081/main/category/add-to-item'\n",
    "image_to_item = 'http://127.0.0.1:8081/main/image/add-to-item'\n",
    "\n",
    "for csv in csv_file:\n",
    "    tmp = csv.split('\\\\')[1][:-4]\n",
    "    upper, lower = tmp.split('_') # 카테고리\n",
    "    df = pd.read_csv(csv)\n",
    "    df = df.iloc[:, 1:]\n",
    "\n",
    "    for i in range(90):\n",
    "        name = df['상품명'][i]\n",
    "        price = df['가격'][i][:-1].split(',') # '원' 제거하고 , split\n",
    "        price = int(''.join(price))\n",
    "        image_list = df['이미지 경로'][i][1:-1] # [, ] 제거\n",
    "        images = []\n",
    "        for image_path in image_list.split(','):\n",
    "            images.append(image_path.strip()[1:-1]) # 공백 제거 후 ', ' 제거\n",
    "\n",
    "        # 아이템 저장\n",
    "        item_request_body = {\n",
    "            \"itemname\":name,\n",
    "            \"price\":price,\n",
    "            \"purchasecnt\":\"0\",\n",
    "            \"count\":\"200\",\n",
    "            \"reviewmean\":\"0\",\n",
    "            \"reviewcount\":\"0\"}\n",
    "        requests.post(url=item_save_url, json=item_request_body)\n",
    "\n",
    "        # 이미지 저장\n",
    "        for img in images:\n",
    "            image_request_body = {\n",
    "                'imgpath':img}\n",
    "            requests.post(url=image_save_url, json=image_request_body)\n",
    "\n",
    "        # Category To Item\n",
    "        for cate in [upper, lower]:\n",
    "            cate_item_body = {\n",
    "                \"itemName\":name,\n",
    "                \"categoryName\":cate}\n",
    "            requests.post(url=category_to_item, json=cate_item_body)\n",
    "\n",
    "        # Image to Item\n",
    "        for img in images:\n",
    "            image_request_body = {\n",
    "                \"itemName\":name,\n",
    "                \"imgPath\":img}\n",
    "            requests.post(url=image_to_item, json=image_request_body)"
   ]
  }
 ],
 "metadata": {
  "kernelspec": {
   "display_name": "Python 3 (ipykernel)",
   "language": "python",
   "name": "python3"
  },
  "language_info": {
   "codemirror_mode": {
    "name": "ipython",
    "version": 3
   },
   "file_extension": ".py",
   "mimetype": "text/x-python",
   "name": "python",
   "nbconvert_exporter": "python",
   "pygments_lexer": "ipython3",
   "version": "3.9.7"
  }
 },
 "nbformat": 4,
 "nbformat_minor": 1
}