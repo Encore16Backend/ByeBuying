{
 "cells": [
  {
   "cell_type": "code",
   "execution_count": 1,
   "metadata": {},
   "outputs": [],
   "source": [
    "import requests\n",
    "import pandas as pd\n",
    "from glob import glob"
   ]
  },
  {
   "cell_type": "code",
   "execution_count": 2,
   "outputs": [
    {
     "data": {
      "text/plain": "<Response [201]>"
     },
     "execution_count": 2,
     "metadata": {},
     "output_type": "execute_result"
    }
   ],
   "source": [
    "requests.post(url=\"http://127.0.0.1:8081/api/roleType/save\", json={\"name\":\"ROLE_USER\"})\n",
    "requests.post(url=\"http://127.0.0.1:8081/api/roleType/save\", json={\"name\":\"ROLE_ADMIN\"})"
   ],
   "metadata": {
    "collapsed": false,
    "pycharm": {
     "name": "#%%\n"
    }
   }
  },
  {
   "cell_type": "code",
   "execution_count": 3,
   "metadata": {
    "pycharm": {
     "name": "#%%\n"
    }
   },
   "outputs": [],
   "source": [
    "category_list = ['상의', '바지', '스커트', '아우터', '반팔', '긴팔', '셔츠', '반바지', '슬랙스', '데님팬츠', '미니스커트', '롱스커트', '롱패딩', '숏패딩', '코트', '트렌치 코트']\n",
    "\n",
    "category_save = \"http://127.0.0.1:8081/main/category/save\"\n",
    "\n",
    "for category in category_list:\n",
    "    request_body = {\"catename\":category}\n",
    "    requests.post(url=category_save, json=request_body)"
   ]
  },
  {
   "cell_type": "code",
   "execution_count": 4,
   "metadata": {
    "pycharm": {
     "name": "#%%\n"
    }
   },
   "outputs": [
    {
     "data": {
      "text/plain": "['./상품DataFrame\\\\바지_데님팬츠.csv',\n './상품DataFrame\\\\바지_반바지.csv',\n './상품DataFrame\\\\바지_슬랙스.csv',\n './상품DataFrame\\\\상의_긴팔.csv',\n './상품DataFrame\\\\상의_반팔.csv',\n './상품DataFrame\\\\상의_셔츠.csv',\n './상품DataFrame\\\\스커트_롱스커트.csv',\n './상품DataFrame\\\\스커트_미니스커트.csv',\n './상품DataFrame\\\\아우터_롱패딩.csv',\n './상품DataFrame\\\\아우터_숏패딩.csv',\n './상품DataFrame\\\\아우터_코트.csv',\n './상품DataFrame\\\\아우터_트렌치 코트.csv']"
     },
     "execution_count": 4,
     "metadata": {},
     "output_type": "execute_result"
    }
   ],
   "source": [
    "csv_file = glob(\"./상품DataFrame/*.csv\")\n",
    "csv_file"
   ]
  },
  {
   "cell_type": "code",
   "execution_count": 5,
   "metadata": {
    "pycharm": {
     "name": "#%%\n"
    }
   },
   "outputs": [
    {
     "data": {
      "text/plain": "                              상품명       가격  \\\n0               시크릿밴드 롱 루즈 와이드 데님  45,000원   \n1        딥워싱 브러쉬 루즈핏 와이드 스트레이트 데님  46,800원   \n2          NOI024 스트레이트 루즈핏 데님 팬츠  39,000원   \n3   BUCKLE WIDE DENIM PANTS BLACK  55,200원   \n4       가을용 커버밴드 이염없는 생지 와이드루즈 데님  52,200원   \n..                            ...      ...   \n85        LIBERTY WIDE PANTS_BLUE  99,000원   \n86                     Road jeans  78,000원   \n87           키르시 하이웨스트 코팅 데님 팬츠 G  98,100원   \n88                     Mars jeans  57,000원   \n89                  키르시 와이드 데님 팬츠  80,100원   \n\n                                               이미지 경로  이미지 개수  \n0   ['./상품이미지/바지/데님팬츠/시크릿밴드 롱 루즈 와이드 데님1.jpg', './...       3  \n1   ['./상품이미지/바지/데님팬츠/딥워싱 브러쉬 루즈핏 와이드 스트레이트 데님1.jp...       3  \n2     ['./상품이미지/바지/데님팬츠/NOI024 스트레이트 루즈핏 데님 팬츠1.jpg']       1  \n3   ['./상품이미지/바지/데님팬츠/BUCKLE WIDE DENIM PANTS BLAC...       3  \n4   ['./상품이미지/바지/데님팬츠/가을용 커버밴드 이염없는 생지 와이드루즈 데님1.j...       3  \n..                                                ...     ...  \n85   ['./상품이미지/바지/데님팬츠/LIBERTY WIDE PANTS_BLUE1.jpg']       1  \n86  ['./상품이미지/바지/데님팬츠/Road jeans1.jpg', './상품이미지/바...       3  \n87  ['./상품이미지/바지/데님팬츠/키르시 하이웨스트 코팅 데님 팬츠20.jpg', '...       3  \n88  ['./상품이미지/바지/데님팬츠/Mars jeans1.jpg', './상품이미지/바...       3  \n89  ['./상품이미지/바지/데님팬츠/키르시 와이드 데님 팬츠1.jpg', './상품이미...       3  \n\n[90 rows x 4 columns]",
      "text/html": "<div>\n<style scoped>\n    .dataframe tbody tr th:only-of-type {\n        vertical-align: middle;\n    }\n\n    .dataframe tbody tr th {\n        vertical-align: top;\n    }\n\n    .dataframe thead th {\n        text-align: right;\n    }\n</style>\n<table border=\"1\" class=\"dataframe\">\n  <thead>\n    <tr style=\"text-align: right;\">\n      <th></th>\n      <th>상품명</th>\n      <th>가격</th>\n      <th>이미지 경로</th>\n      <th>이미지 개수</th>\n    </tr>\n  </thead>\n  <tbody>\n    <tr>\n      <th>0</th>\n      <td>시크릿밴드 롱 루즈 와이드 데님</td>\n      <td>45,000원</td>\n      <td>['./상품이미지/바지/데님팬츠/시크릿밴드 롱 루즈 와이드 데님1.jpg', './...</td>\n      <td>3</td>\n    </tr>\n    <tr>\n      <th>1</th>\n      <td>딥워싱 브러쉬 루즈핏 와이드 스트레이트 데님</td>\n      <td>46,800원</td>\n      <td>['./상품이미지/바지/데님팬츠/딥워싱 브러쉬 루즈핏 와이드 스트레이트 데님1.jp...</td>\n      <td>3</td>\n    </tr>\n    <tr>\n      <th>2</th>\n      <td>NOI024 스트레이트 루즈핏 데님 팬츠</td>\n      <td>39,000원</td>\n      <td>['./상품이미지/바지/데님팬츠/NOI024 스트레이트 루즈핏 데님 팬츠1.jpg']</td>\n      <td>1</td>\n    </tr>\n    <tr>\n      <th>3</th>\n      <td>BUCKLE WIDE DENIM PANTS BLACK</td>\n      <td>55,200원</td>\n      <td>['./상품이미지/바지/데님팬츠/BUCKLE WIDE DENIM PANTS BLAC...</td>\n      <td>3</td>\n    </tr>\n    <tr>\n      <th>4</th>\n      <td>가을용 커버밴드 이염없는 생지 와이드루즈 데님</td>\n      <td>52,200원</td>\n      <td>['./상품이미지/바지/데님팬츠/가을용 커버밴드 이염없는 생지 와이드루즈 데님1.j...</td>\n      <td>3</td>\n    </tr>\n    <tr>\n      <th>...</th>\n      <td>...</td>\n      <td>...</td>\n      <td>...</td>\n      <td>...</td>\n    </tr>\n    <tr>\n      <th>85</th>\n      <td>LIBERTY WIDE PANTS_BLUE</td>\n      <td>99,000원</td>\n      <td>['./상품이미지/바지/데님팬츠/LIBERTY WIDE PANTS_BLUE1.jpg']</td>\n      <td>1</td>\n    </tr>\n    <tr>\n      <th>86</th>\n      <td>Road jeans</td>\n      <td>78,000원</td>\n      <td>['./상품이미지/바지/데님팬츠/Road jeans1.jpg', './상품이미지/바...</td>\n      <td>3</td>\n    </tr>\n    <tr>\n      <th>87</th>\n      <td>키르시 하이웨스트 코팅 데님 팬츠 G</td>\n      <td>98,100원</td>\n      <td>['./상품이미지/바지/데님팬츠/키르시 하이웨스트 코팅 데님 팬츠20.jpg', '...</td>\n      <td>3</td>\n    </tr>\n    <tr>\n      <th>88</th>\n      <td>Mars jeans</td>\n      <td>57,000원</td>\n      <td>['./상품이미지/바지/데님팬츠/Mars jeans1.jpg', './상품이미지/바...</td>\n      <td>3</td>\n    </tr>\n    <tr>\n      <th>89</th>\n      <td>키르시 와이드 데님 팬츠</td>\n      <td>80,100원</td>\n      <td>['./상품이미지/바지/데님팬츠/키르시 와이드 데님 팬츠1.jpg', './상품이미...</td>\n      <td>3</td>\n    </tr>\n  </tbody>\n</table>\n<p>90 rows × 4 columns</p>\n</div>"
     },
     "execution_count": 5,
     "metadata": {},
     "output_type": "execute_result"
    }
   ],
   "source": [
    "df = pd.read_csv(csv_file[0])\n",
    "df = df.iloc[:, 1:]\n",
    "df"
   ]
  },
  {
   "cell_type": "markdown",
   "metadata": {},
   "source": [
    "이미지 먼저 순회하면서 저장한 후 아이템 저장하고,\n",
    "아이템에 해당 이미지들과 카테고리들을 넣어줌."
   ]
  },
  {
   "cell_type": "code",
   "execution_count": 6,
   "metadata": {
    "pycharm": {
     "name": "#%%\n"
    }
   },
   "outputs": [],
   "source": [
    "item_save_url = 'http://127.0.0.1:8081/main/item/save'\n",
    "image_save_url = 'http://127.0.0.1:8081/main/itemImage/save'\n",
    "category_to_item = 'http://127.0.0.1:8081/main/category/add-to-item'\n",
    "image_to_item = 'http://127.0.0.1:8081/main/itemImage/add-to-item'\n",
    "\n",
    "for csv in csv_file:\n",
    "    tmp = csv.split('\\\\')[1][:-4]\n",
    "    upper, lower = tmp.split('_') # 카테고리\n",
    "    df = pd.read_csv(csv)\n",
    "    df = df.iloc[:, 1:]\n",
    "\n",
    "    for i in range(90):\n",
    "        name = df['상품명'][i]\n",
    "        price = df['가격'][i][:-1].split(',') # '원' 제거하고 , split\n",
    "        price = int(''.join(price))\n",
    "        image_list = df['이미지 경로'][i][1:-1] # [, ] 제거\n",
    "        images = []\n",
    "        for image_path in image_list.split(','):\n",
    "            images.append(image_path.strip()[1:-1]) # 공백 제거 후 ', ' 제거\n",
    "\n",
    "        # 아이템 저장\n",
    "        item_request_body = {\n",
    "            \"itemname\":name,\n",
    "            \"price\":price,\n",
    "            \"purchasecnt\":\"0\",\n",
    "            \"count\":\"200\",\n",
    "            \"reviewmean\":\"0\",\n",
    "            \"reviewcount\":\"0\"}\n",
    "        requests.post(url=item_save_url, json=item_request_body)\n",
    "\n",
    "        # 이미지 저장\n",
    "        for img in images:\n",
    "            image_request_body = {\n",
    "                'imgpath':img}\n",
    "            requests.post(url=image_save_url, json=image_request_body)\n",
    "\n",
    "        # Category To Item\n",
    "        for cate in [upper, lower]:\n",
    "            cate_item_body = {\n",
    "                \"itemName\":name,\n",
    "                \"categoryName\":cate}\n",
    "            requests.post(url=category_to_item, json=cate_item_body)\n",
    "\n",
    "        # Image to Item\n",
    "        for img in images:\n",
    "            image_request_body = {\n",
    "                \"itemName\":name,\n",
    "                \"imgPath\":img}\n",
    "            requests.post(url=image_to_item, json=image_request_body)"
   ]
  }
 ],
 "metadata": {
  "kernelspec": {
   "display_name": "Python 3 (ipykernel)",
   "language": "python",
   "name": "python3"
  },
  "language_info": {
   "codemirror_mode": {
    "name": "ipython",
    "version": 3
   },
   "file_extension": ".py",
   "mimetype": "text/x-python",
   "name": "python",
   "nbconvert_exporter": "python",
   "pygments_lexer": "ipython3",
   "version": "3.9.7"
  }
 },
 "nbformat": 4,
 "nbformat_minor": 1
}