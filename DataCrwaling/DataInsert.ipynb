{
 "cells": [
  {
   "cell_type": "code",
   "execution_count": 7,
   "metadata": {
    "collapsed": true
   },
   "outputs": [],
   "source": [
    "import requests\n",
    "import pandas as pd\n",
    "from glob import glob"
   ]
  },
  {
   "cell_type": "code",
   "execution_count": 3,
   "outputs": [
    {
     "data": {
      "text/plain": "<Response [201]>"
     },
     "execution_count": 3,
     "metadata": {},
     "output_type": "execute_result"
    }
   ],
   "source": [
    "category_save = \"http://127.0.0.1:8081/main/category/save\"\n",
    "request_body = {\"catename\":\"반팔\"}\n",
    "requests.post(url=category_save, json=request_body)"
   ],
   "metadata": {
    "collapsed": false,
    "pycharm": {
     "name": "#%%\n"
    }
   }
  },
  {
   "cell_type": "markdown",
   "source": [
    "* 상의: 1\n",
    "    * 반팔: 5\n",
    "    * 긴팔: 6\n",
    "    * 셔츠: 7\n",
    "\n",
    "* 바지: 2\n",
    "    * 반바지: 8\n",
    "    * 슬랙스: 9\n",
    "    * 데님팬츠: 10\n",
    "\n",
    "* 스커트: 3\n",
    "    * 미니스커트: 11\n",
    "    * 롱스커트: 12\n",
    "\n",
    "* 아우터: 4\n",
    "    * 롱패딩: 13\n",
    "    * 숏패딩: 14\n",
    "    * 코트: 15\n",
    "    * 트렌치 코트: 16"
   ],
   "metadata": {
    "collapsed": false
   }
  },
  {
   "cell_type": "code",
   "execution_count": 50,
   "outputs": [],
   "source": [
    "category_list = ['상의', '바지', '스커트', '아우터', '반팔', '긴팔', '셔츠', '반바지', '슬랙스', '데님팬츠', '미니스커트', '롱스커트', '롱패딩', '숏패딩', '코트', '트렌치 코트']\n",
    "\n",
    "category_save = \"http://127.0.0.1:8081/main/category/save\"\n",
    "\n",
    "for category in category_list:\n",
    "    request_body = {\"catename\":category}\n",
    "    requests.post(url=category_save, json=request_body)"
   ],
   "metadata": {
    "collapsed": false,
    "pycharm": {
     "name": "#%%\n"
    }
   }
  },
  {
   "cell_type": "code",
   "execution_count": 19,
   "outputs": [
    {
     "data": {
      "text/plain": "['./상품DataFrame\\\\바지_데님팬츠.csv',\n './상품DataFrame\\\\바지_반바지.csv',\n './상품DataFrame\\\\바지_슬랙스.csv',\n './상품DataFrame\\\\상의_긴팔.csv',\n './상품DataFrame\\\\상의_반팔.csv',\n './상품DataFrame\\\\상의_셔츠.csv',\n './상품DataFrame\\\\스커트_롱스커트.csv',\n './상품DataFrame\\\\스커트_미니스커트.csv',\n './상품DataFrame\\\\아우터_롱패딩.csv',\n './상품DataFrame\\\\아우터_숏패딩.csv',\n './상품DataFrame\\\\아우터_코트.csv',\n './상품DataFrame\\\\아우터_트렌치 코트.csv']"
     },
     "execution_count": 19,
     "metadata": {},
     "output_type": "execute_result"
    }
   ],
   "source": [
    "csv_file = glob(\"./상품DataFrame/*.csv\")\n",
    "csv_file"
   ],
   "metadata": {
    "collapsed": false,
    "pycharm": {
     "name": "#%%\n"
    }
   }
  },
  {
   "cell_type": "code",
   "execution_count": 20,
   "outputs": [
    {
     "name": "stdout",
     "output_type": "stream",
     "text": [
      "['아우터', '트렌치 코트']\n"
     ]
    }
   ],
   "source": [
    "tmp = csv_file[-1].split('\\\\')[1][:-4]\n",
    "print(tmp.split('_'))"
   ],
   "metadata": {
    "collapsed": false,
    "pycharm": {
     "name": "#%%\n"
    }
   }
  },
  {
   "cell_type": "code",
   "execution_count": 18,
   "outputs": [
    {
     "name": "stdout",
     "output_type": "stream",
     "text": [
      "['바지', '데님팬츠']\n"
     ]
    }
   ],
   "source": [
    "tmp = csv_file[0].split('\\\\')[1][:-4]\n",
    "print(tmp.split('_'))"
   ],
   "metadata": {
    "collapsed": false,
    "pycharm": {
     "name": "#%%\n"
    }
   }
  },
  {
   "cell_type": "code",
   "execution_count": 13,
   "outputs": [
    {
     "data": {
      "text/plain": "                                                  상품명       가격  \\\n0                                와이드 데님 팬츠 LIGHT BLUE  44,100원   \n1                                 와이드 데님 팬츠 DEEP GREY  44,100원   \n2                     1931 OBJECT JEANS CROP STRAIGHT  55,380원   \n3                  1967 JET BLACK JEANS WIDE STRAIGHT  63,960원   \n4      8cm 숏버전 추가 0214 Moderation indigo straight fit  59,000원   \n..                                                ...      ...   \n85                                     레귤러 핏 데님 팬츠 블랙  39,900원   \n86  51006 HISHITOMO COLLECTION BLACK JEANS RELAX S...  97,850원   \n87                   selvedge denim pants deep indigo  89,000원   \n88                          타이다이 워시드 카펜터 데님 팬츠 TP0037  64,000원   \n89                               M0096 슬림핏 미니멀 인디고 데님  53,000원   \n\n                                               이미지 경로  이미지 개수  \n0       ['./상품이미지/바지/데님팬츠/와이드 데님 팬츠 LIGHT BLUE1.jpg']       1  \n1        ['./상품이미지/바지/데님팬츠/와이드 데님 팬츠 DEEP GREY1.jpg']       1  \n2   ['./상품이미지/바지/데님팬츠/1931 OBJECT JEANS CROP STRAI...       1  \n3   ['./상품이미지/바지/데님팬츠/1967 JET BLACK JEANS WIDE ST...       1  \n4   ['./상품이미지/바지/데님팬츠/8cm 숏버전 추가 0214 Moderation i...       3  \n..                                                ...     ...  \n85  ['./상품이미지/바지/데님팬츠/레귤러 핏 데님 팬츠 블랙1.jpg', './상품이...       3  \n86  ['./상품이미지/바지/데님팬츠/51006 HISHITOMO COLLECTION B...       1  \n87  ['./상품이미지/바지/데님팬츠/selvedge denim pants deep in...       1  \n88  ['./상품이미지/바지/데님팬츠/타이다이 워시드 카펜터 데님 팬츠 TP00371.j...       1  \n89  ['./상품이미지/바지/데님팬츠/M0096 슬림핏 미니멀 인디고 데님1.jpg', ...       3  \n\n[90 rows x 4 columns]",
      "text/html": "<div>\n<style scoped>\n    .dataframe tbody tr th:only-of-type {\n        vertical-align: middle;\n    }\n\n    .dataframe tbody tr th {\n        vertical-align: top;\n    }\n\n    .dataframe thead th {\n        text-align: right;\n    }\n</style>\n<table border=\"1\" class=\"dataframe\">\n  <thead>\n    <tr style=\"text-align: right;\">\n      <th></th>\n      <th>상품명</th>\n      <th>가격</th>\n      <th>이미지 경로</th>\n      <th>이미지 개수</th>\n    </tr>\n  </thead>\n  <tbody>\n    <tr>\n      <th>0</th>\n      <td>와이드 데님 팬츠 LIGHT BLUE</td>\n      <td>44,100원</td>\n      <td>['./상품이미지/바지/데님팬츠/와이드 데님 팬츠 LIGHT BLUE1.jpg']</td>\n      <td>1</td>\n    </tr>\n    <tr>\n      <th>1</th>\n      <td>와이드 데님 팬츠 DEEP GREY</td>\n      <td>44,100원</td>\n      <td>['./상품이미지/바지/데님팬츠/와이드 데님 팬츠 DEEP GREY1.jpg']</td>\n      <td>1</td>\n    </tr>\n    <tr>\n      <th>2</th>\n      <td>1931 OBJECT JEANS CROP STRAIGHT</td>\n      <td>55,380원</td>\n      <td>['./상품이미지/바지/데님팬츠/1931 OBJECT JEANS CROP STRAI...</td>\n      <td>1</td>\n    </tr>\n    <tr>\n      <th>3</th>\n      <td>1967 JET BLACK JEANS WIDE STRAIGHT</td>\n      <td>63,960원</td>\n      <td>['./상품이미지/바지/데님팬츠/1967 JET BLACK JEANS WIDE ST...</td>\n      <td>1</td>\n    </tr>\n    <tr>\n      <th>4</th>\n      <td>8cm 숏버전 추가 0214 Moderation indigo straight fit</td>\n      <td>59,000원</td>\n      <td>['./상품이미지/바지/데님팬츠/8cm 숏버전 추가 0214 Moderation i...</td>\n      <td>3</td>\n    </tr>\n    <tr>\n      <th>...</th>\n      <td>...</td>\n      <td>...</td>\n      <td>...</td>\n      <td>...</td>\n    </tr>\n    <tr>\n      <th>85</th>\n      <td>레귤러 핏 데님 팬츠 블랙</td>\n      <td>39,900원</td>\n      <td>['./상품이미지/바지/데님팬츠/레귤러 핏 데님 팬츠 블랙1.jpg', './상품이...</td>\n      <td>3</td>\n    </tr>\n    <tr>\n      <th>86</th>\n      <td>51006 HISHITOMO COLLECTION BLACK JEANS RELAX S...</td>\n      <td>97,850원</td>\n      <td>['./상품이미지/바지/데님팬츠/51006 HISHITOMO COLLECTION B...</td>\n      <td>1</td>\n    </tr>\n    <tr>\n      <th>87</th>\n      <td>selvedge denim pants deep indigo</td>\n      <td>89,000원</td>\n      <td>['./상품이미지/바지/데님팬츠/selvedge denim pants deep in...</td>\n      <td>1</td>\n    </tr>\n    <tr>\n      <th>88</th>\n      <td>타이다이 워시드 카펜터 데님 팬츠 TP0037</td>\n      <td>64,000원</td>\n      <td>['./상품이미지/바지/데님팬츠/타이다이 워시드 카펜터 데님 팬츠 TP00371.j...</td>\n      <td>1</td>\n    </tr>\n    <tr>\n      <th>89</th>\n      <td>M0096 슬림핏 미니멀 인디고 데님</td>\n      <td>53,000원</td>\n      <td>['./상품이미지/바지/데님팬츠/M0096 슬림핏 미니멀 인디고 데님1.jpg', ...</td>\n      <td>3</td>\n    </tr>\n  </tbody>\n</table>\n<p>90 rows × 4 columns</p>\n</div>"
     },
     "execution_count": 13,
     "metadata": {},
     "output_type": "execute_result"
    }
   ],
   "source": [
    "df = pd.read_csv(csv_file[0])\n",
    "df = df.iloc[:, 1:]\n",
    "df"
   ],
   "metadata": {
    "collapsed": false,
    "pycharm": {
     "name": "#%%\n"
    }
   }
  },
  {
   "cell_type": "code",
   "execution_count": 23,
   "outputs": [
    {
     "data": {
      "text/plain": "Index(['상품명', '가격', '이미지 경로', '이미지 개수'], dtype='object')"
     },
     "execution_count": 23,
     "metadata": {},
     "output_type": "execute_result"
    }
   ],
   "source": [
    "df.columns"
   ],
   "metadata": {
    "collapsed": false,
    "pycharm": {
     "name": "#%%\n"
    }
   }
  },
  {
   "cell_type": "code",
   "execution_count": 38,
   "outputs": [
    {
     "name": "stdout",
     "output_type": "stream",
     "text": [
      "./상품이미지/바지/데님팬츠/와이드 데님 팬츠 LIGHT BLUE1.jpg\n",
      "./상품이미지/바지/데님팬츠/와이드 데님 팬츠 DEEP GREY1.jpg\n",
      "./상품이미지/바지/데님팬츠/1931 OBJECT JEANS CROP STRAIGHT1.jpg\n",
      "./상품이미지/바지/데님팬츠/1967 JET BLACK JEANS WIDE STRAIGHT1.jpg\n",
      "./상품이미지/바지/데님팬츠/8cm 숏버전 추가 0214 Moderation indigo straight fit1.jpg\n",
      "./상품이미지/바지/데님팬츠/8cm 숏버전 추가 0214 Moderation indigo straight fit2.jpg\n",
      "./상품이미지/바지/데님팬츠/8cm 숏버전 추가 0214 Moderation indigo straight fit3.jpg\n"
     ]
    }
   ],
   "source": [
    "for i in range(5):\n",
    "    name = df['상품명'][i]\n",
    "    price = df['가격'][i]\n",
    "    image_list = df['이미지 경로'][i][1:-1]\n",
    "    for image in image_list.split(','):\n",
    "        print(image.strip()[1:-1])"
   ],
   "metadata": {
    "collapsed": false,
    "pycharm": {
     "name": "#%%\n"
    }
   }
  },
  {
   "cell_type": "markdown",
   "source": [
    "이미지 먼저 순회하면서 저장한 후 아이템 저장하고,\n",
    "아이템에 해당 이미지들과 카테고리들을 넣어줌."
   ],
   "metadata": {
    "collapsed": false
   }
  },
  {
   "cell_type": "code",
   "execution_count": 51,
   "outputs": [],
   "source": [
    "item_save_url = 'http://127.0.0.1:8081/main/item/save'\n",
    "image_save_url = 'http://127.0.0.1:8081/main/image/save'\n",
    "category_to_item = 'http://127.0.0.1:8081/main/category/add-to-item'\n",
    "image_to_item = 'http://127.0.0.1:8081/main/image/add-to-item'\n",
    "\n",
    "for csv in csv_file:\n",
    "    tmp = csv.split('\\\\')[1][:-4]\n",
    "    upper, lower = tmp.split('_') # 카테고리\n",
    "    df = pd.read_csv(csv)\n",
    "    df = df.iloc[:, 1:]\n",
    "\n",
    "    for i in range(90):\n",
    "        name = df['상품명'][i]\n",
    "        price = df['가격'][i][:-1].split(',') # '원' 제거하고 , split\n",
    "        price = int(''.join(price))\n",
    "        image_list = df['이미지 경로'][i][1:-1] # [, ] 제거\n",
    "        images = []\n",
    "        for image_path in image_list.split(','):\n",
    "            images.append(image_path.strip()[1:-1]) # 공백 제거 후 ', ' 제거\n",
    "\n",
    "        # 아이템 저장\n",
    "        item_request_body = {\n",
    "            \"itemname\":name,\n",
    "            \"price\":price,\n",
    "            \"purchasecnt\":\"0\",\n",
    "            \"count\":\"200\",\n",
    "            \"reviewmean\":\"0\",\n",
    "            \"reviewcount\":\"0\"}\n",
    "        requests.post(url=item_save_url, json=item_request_body)\n",
    "\n",
    "        # 이미지 저장\n",
    "        for img in images:\n",
    "            image_request_body = {\n",
    "                'imgpath':img}\n",
    "            requests.post(url=image_save_url, json=image_request_body)\n",
    "\n",
    "        # Category To Item\n",
    "        for cate in [upper, lower]:\n",
    "            cate_item_body = {\n",
    "                \"itemName\":name,\n",
    "                \"categoryName\":cate}\n",
    "            requests.post(url=category_to_item, json=cate_item_body)\n",
    "\n",
    "        # Image to Item\n",
    "        for img in images:\n",
    "            image_request_body = {\n",
    "                \"itemName\":name,\n",
    "                \"imgPath\":img}\n",
    "            requests.post(url=image_to_item, json=image_request_body)"
   ],
   "metadata": {
    "collapsed": false,
    "pycharm": {
     "name": "#%%\n"
    }
   }
  }
 ],
 "metadata": {
  "kernelspec": {
   "display_name": "Python 3",
   "language": "python",
   "name": "python3"
  },
  "language_info": {
   "codemirror_mode": {
    "name": "ipython",
    "version": 2
   },
   "file_extension": ".py",
   "mimetype": "text/x-python",
   "name": "python",
   "nbconvert_exporter": "python",
   "pygments_lexer": "ipython2",
   "version": "2.7.6"
  }
 },
 "nbformat": 4,
 "nbformat_minor": 0
}